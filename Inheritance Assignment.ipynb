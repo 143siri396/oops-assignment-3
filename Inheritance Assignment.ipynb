{
 "cells": [
  {
   "cell_type": "code",
   "execution_count": 4,
   "id": "83b9f310",
   "metadata": {},
   "outputs": [
    {
     "data": {
      "text/plain": [
       "10"
      ]
     },
     "execution_count": 4,
     "metadata": {},
     "output_type": "execute_result"
    }
   ],
   "source": [
    "class parent_Class:\n",
    "    num=10\n",
    "class Child_Class(parent_Class):\n",
    "    pass\n",
    "obj=Child_Class()\n",
    "Child_Class.num"
   ]
  },
  {
   "cell_type": "code",
   "execution_count": 6,
   "id": "ddfae7dc",
   "metadata": {},
   "outputs": [
    {
     "name": "stdout",
     "output_type": "stream",
     "text": [
      "Name from Class C: Alice\n"
     ]
    }
   ],
   "source": [
    "class A:\n",
    "    def __init__(self):\n",
    "        self.name='Alice'\n",
    "        self.age=25\n",
    "    def details(self):\n",
    "        return self.name\n",
    "class B:\n",
    "    def __init__(self):\n",
    "        self.name='Bob'\n",
    "        self.id=101\n",
    "    def details(self):\n",
    "        return self.name\n",
    "class C(A,B):\n",
    "    def __init__(self):\n",
    "        A.__init__(self)\n",
    "    def get_details(self):\n",
    "        return self.name\n",
    "obj=C()\n",
    "print(\"Name from Class C:\",obj.get_details())"
   ]
  },
  {
   "cell_type": "code",
   "execution_count": 9,
   "id": "d137c725",
   "metadata": {},
   "outputs": [
    {
     "name": "stdout",
     "output_type": "stream",
     "text": [
      "This is the first function from sub1 class\n",
      "This is the second function from sub2 class\n",
      "This is the final method from the super class\n"
     ]
    }
   ],
   "source": [
    "class sub1:\n",
    "    def first(self):\n",
    "        print(\"This is the first function from sub1 class\")\n",
    "class sub2:\n",
    "    def second(self):\n",
    "        print(\"This is the second function from sub2 class\")\n",
    "class Super(sub1,sub2):\n",
    "    def final(self):\n",
    "        print(\"This is the final method from the super class\")\n",
    "super_obj=Super()\n",
    "super_obj.first()\n",
    "super_obj.second()\n",
    "super_obj.final()"
   ]
  },
  {
   "cell_type": "code",
   "execution_count": 11,
   "id": "9caf7565",
   "metadata": {},
   "outputs": [
    {
     "name": "stdout",
     "output_type": "stream",
     "text": [
      "This is the message from the fun1\n"
     ]
    }
   ],
   "source": [
    "class Parent:\n",
    "    def func1(self):\n",
    "        print(\"This is the message from the fun1\")\n",
    "class child1:\n",
    "    def func2(self):\n",
    "        print(\"This is the message from the func2\")\n",
    "class Child2(Parent):\n",
    "    def fun3(self):\n",
    "        print(\"This is the message from the fun3\")\n",
    "obj=Child2()\n",
    "obj.func1()"
   ]
  },
  {
   "cell_type": "code",
   "execution_count": 14,
   "id": "b9498a16",
   "metadata": {},
   "outputs": [
    {
     "ename": "TypeError",
     "evalue": "Hybrid() takes no arguments",
     "output_type": "error",
     "traceback": [
      "\u001b[1;31m---------------------------------------------------------------------------\u001b[0m",
      "\u001b[1;31mTypeError\u001b[0m                                 Traceback (most recent call last)",
      "Cell \u001b[1;32mIn[14], line 10\u001b[0m\n\u001b[0;32m      8\u001b[0m     \u001b[38;5;28;01mdef\u001b[39;00m \u001b[38;5;21mfun3\u001b[39m(\u001b[38;5;28mself\u001b[39m):\n\u001b[0;32m      9\u001b[0m         \u001b[38;5;28mprint\u001b[39m(\u001b[38;5;124m\"\u001b[39m\u001b[38;5;124mThis is the mesaage from the  fun3\u001b[39m\u001b[38;5;124m\"\u001b[39m)\n\u001b[1;32m---> 10\u001b[0m obj\u001b[38;5;241m=\u001b[39mHybrid(Parent,Child)\n\u001b[0;32m     11\u001b[0m obj\u001b[38;5;241m.\u001b[39mfun1()\n\u001b[0;32m     12\u001b[0m obj\u001b[38;5;241m.\u001b[39mfun2()\n",
      "\u001b[1;31mTypeError\u001b[0m: Hybrid() takes no arguments"
     ]
    }
   ],
   "source": [
    "class Parent:\n",
    "    def fun1(self):\n",
    "        print(\"This is the message from the fun2\")\n",
    "class Child:\n",
    "    def fun2(self):\n",
    "        print(\"This is the message from the func2\")\n",
    "class Hybrid:\n",
    "    def fun3(self):\n",
    "        print(\"This is the mesaage from the  fun3\")\n",
    "obj=Hybrid(Parent,Child)\n",
    "obj.fun1()\n",
    "obj.fun2()\n",
    "obj.fun3()"
   ]
  },
  {
   "cell_type": "code",
   "execution_count": null,
   "id": "cb5b43f8",
   "metadata": {},
   "outputs": [],
   "source": []
  },
  {
   "cell_type": "code",
   "execution_count": null,
   "id": "df067fd9",
   "metadata": {},
   "outputs": [],
   "source": []
  }
 ],
 "metadata": {
  "kernelspec": {
   "display_name": "Python 3 (ipykernel)",
   "language": "python",
   "name": "python3"
  },
  "language_info": {
   "codemirror_mode": {
    "name": "ipython",
    "version": 3
   },
   "file_extension": ".py",
   "mimetype": "text/x-python",
   "name": "python",
   "nbconvert_exporter": "python",
   "pygments_lexer": "ipython3",
   "version": "3.11.5"
  }
 },
 "nbformat": 4,
 "nbformat_minor": 5
}
